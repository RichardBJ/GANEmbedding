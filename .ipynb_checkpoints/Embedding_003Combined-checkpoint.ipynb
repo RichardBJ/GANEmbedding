{
 "cells": [
  {
   "cell_type": "markdown",
   "metadata": {},
   "source": [
    "### from sklearn.datasets import load_digits\n",
    "digits = load_digits()\n",
    "print(digits.data.shape)\n",
    "\n",
    "import matplotlib.pyplot as plt \n",
    "plt.gray() \n",
    "plt.matshow(digits.images[0]) \n",
    "plt.show() "
   ]
  },
  {
   "cell_type": "code",
   "execution_count": 1,
   "metadata": {},
   "outputs": [
    {
     "name": "stdout",
     "output_type": "stream",
     "text": [
      "Automatically created module for IPython interactive environment\n",
      "(1083, 8, 8)\n"
     ]
    }
   ],
   "source": [
    "from time import time\n",
    "import numpy as np\n",
    "import matplotlib.pyplot as plt\n",
    "from matplotlib import offsetbox\n",
    "from sklearn import (manifold, datasets, decomposition, ensemble,\n",
    "                     discriminant_analysis, random_projection, neighbors)\n",
    "print(__doc__)"
   ]
  },
  {
   "cell_type": "code",
   "execution_count": 5,
   "metadata": {},
   "outputs": [
    {
     "name": "stdout",
     "output_type": "stream",
     "text": [
      "['data/4096lina11gen.csv', 'data/4096lina11raw.csv', 'data/c035[NF=50Hz]0-32_4kgen.csv', 'data/c035[NF=50Hz]0-32_4kraw.csv', 'data/pvngan.csv', 'data/pvnraw.csv']\n"
     ]
    }
   ],
   "source": [
    "import glob, csv, sys, math\n",
    "import numpy as np\n",
    "from scipy.interpolate import interp1d\n",
    "files=glob.glob('data/*.csv')\n",
    "files=sorted(files)\n",
    "print(files)\n",
    "def listmean(listin):\n",
    "    return sum(listin)/len(listin)\n",
    "    "
   ]
  },
  {
   "cell_type": "code",
   "execution_count": 6,
   "metadata": {},
   "outputs": [],
   "source": [
    "import numpy as np\n",
    "#some outout from Qub doesn't use 0 1 IDL convention!\n",
    "def convertIDL(idl:list) -> list:\n",
    "    '''This only works assuming more than 0.5 between states!'''\n",
    "    idl=np.asarray(idl)\n",
    "    mini=np.min(np.round(idl))\n",
    "    idl=idl-mini\n",
    "    maxi=np.max(np.round(idl))\n",
    "    return np.round((idl/maxi)).tolist()\n",
    "\n",
    "def shape(lister:list)->tuple:\n",
    "    return np.asarray(lister).shape\n"
   ]
  },
  {
   "cell_type": "code",
   "execution_count": 7,
   "metadata": {},
   "outputs": [
    {
     "name": "stdout",
     "output_type": "stream",
     "text": [
      "\n",
      "\n",
      "\n",
      " data/4096lina11gen.csv\n",
      "For x; min=-2.07, max=25.47, mean = 10.88 and y;  min=0.0, max=1.0, xshape=(409599,), yshape(409599,)\n",
      "\n",
      "newx len = \n",
      " (409599,)\n",
      "x shape, y shape (409599,) (409599,)\n",
      "Converting to images...\n",
      "0 images.shape (799, 2, 512)\n",
      "\n",
      "\n",
      "\n",
      " data/4096lina11raw.csv\n",
      "For x; min=-0.63, max=0.47, mean = -0.09 and y;  min=0.0, max=1.0, xshape=(150751,), yshape(150751,)\n",
      "\n",
      "newx len = \n",
      " (150751,)\n",
      "x shape, y shape (560350,) (560350,)\n",
      "Converting to images...\n",
      "1 images.shape (294, 2, 512)\n",
      "\n",
      "\n",
      "\n",
      " data/c035[NF=50Hz]0-32_4kgen.csv\n",
      "For x; min=-3.67, max=18.29, mean = 10.88 and y;  min=0.0, max=1.0, xshape=(278527,), yshape(278527,)\n",
      "\n",
      "newx len = \n",
      " (278527,)\n",
      "x shape, y shape (838877,) (838877,)\n",
      "Converting to images...\n",
      "2 images.shape (543, 2, 512)\n",
      "\n",
      "\n",
      "\n",
      " data/c035[NF=50Hz]0-32_4kraw.csv\n",
      "For x; min=0.75, max=15.76, mean = 10.30 and y;  min=-0.0, max=1.0, xshape=(366587,), yshape(366587,)\n",
      "\n",
      "newx len = \n",
      " (366587,)\n",
      "x shape, y shape (1205464,) (1205464,)\n",
      "Converting to images...\n",
      "3 images.shape (715, 2, 512)\n",
      "\n",
      "\n",
      "\n",
      " data/pvngan.csv\n",
      "For x; min=-1.15, max=4.84, mean = 1.93 and y;  min=0.0, max=1.0, xshape=(173335,), yshape(173335,)\n",
      "\n",
      "newx len = \n",
      " (173335,)\n",
      "x shape, y shape (1378799,) (1378799,)\n",
      "Converting to images...\n",
      "4 images.shape (338, 2, 512)\n",
      "\n",
      "\n",
      "\n",
      " data/pvnraw.csv\n",
      "For x; min=0.11, max=1.00, mean = 0.75 and y;  min=0.0, max=1.0, xshape=(255839,), yshape(255839,)\n",
      "\n",
      "newx len = \n",
      " (255839,)\n",
      "x shape, y shape (1634638,) (1634638,)\n",
      "Converting to images...\n",
      "5 images.shape (499, 2, 512)\n",
      "FInAL images.shape (3188, 2, 512)\n",
      "shape of x (1634638,)\n",
      "shape of y (1634638,)\n",
      "there are 6 classes\n",
      "iclass=[799, 294, 543, 715, 338, 499]\n"
     ]
    }
   ],
   "source": [
    "#THIS VERSION MUST HAVE IDEALISED BUT MAY NOT HAVE TIME ie 2 or 3 columns\n",
    "seq=512\n",
    "def dofile(newfile):\n",
    "    print(\"\\n\\n\\n\",newfile)\n",
    "    i=0\n",
    "    j=0\n",
    "    firstline=True\n",
    "    x=[]\n",
    "    y=[]\n",
    "    newx=[]\n",
    "    newy=[]\n",
    "    with open(newfile) as infile:\n",
    "        correctidl=False\n",
    "        reader = csv.reader(infile)\n",
    "        \n",
    "        for row in reader:\n",
    "            columns=len(row)\n",
    "            i += 1\n",
    "            if firstline==True:\n",
    "                # Don't read first line in case header exists\n",
    "                firstline=False\n",
    "                continue\n",
    "            else:\n",
    "                # Add current and channels to respective lists\n",
    "                if columns>2:\n",
    "                    #Must have time, so x is row [1]\n",
    "                    try:\n",
    "                        newx.append(float(row[1]))    \n",
    "                    except:\n",
    "                        print(\"An exception occurred\",print(row[1]))\n",
    "                        break\n",
    "                else:\n",
    "                    #So presumably no time column, x is row[0]\n",
    "                    try:\n",
    "                        newx.append(float(row[0]))    \n",
    "                    except:\n",
    "                        print(\"An exception occurred\",print(row[0]))\n",
    "                        break                        \n",
    "                if columns>2:\n",
    "                    #there is a time column so idl is in column 2\n",
    "                    newy.append(float(row[2]))\n",
    "                else:\n",
    "                    #There is no time column so idl is col 1.\n",
    "                    newy.append(float(row[1]))\n",
    "            if i % 1000 == 0:\n",
    "                # Progress update every 100 iterations\n",
    "                print(f'Progress row: {i}', end='\\r')\n",
    "                sys.stdout.flush()\n",
    "                print\n",
    "        x.extend(newx)\n",
    "        y.extend(newy)\n",
    "        if max(y)>1:\n",
    "            y=convertIDL(y)\n",
    "               \n",
    "        #make sure y is zero or 1\n",
    "        miny=min(y)\n",
    "        maxy=max(y)\n",
    "        print(f'For x; min={min(x):.2f}, max={max(x):.2f}, mean = {listmean(x):.2f} '+ \n",
    "              f'and y;  min={min(y)}, max={max(y)}, xshape={shape(x)}, yshape{shape(y)}')            \n",
    "        return x,y\n",
    "    \n",
    "jumps=seq\n",
    "def makeImages2c(lx, ly, seq, num, j):\n",
    "    z = np.ones((2,seq))\n",
    "    z[0, 0:seq] = lx[j: j+seq]\n",
    "    z[1, 0:seq] = ly[j: j+seq]\n",
    "    return z\n",
    "    \n",
    "x,y,iclass = [],[],[]\n",
    "images=[]\n",
    "for count, filename in enumerate(files):\n",
    "    newx,newy=dofile(filename)\n",
    "    print('\\nnewx len = \\n',np.asarray(newx).shape)\n",
    "    x.extend(newx)\n",
    "    y.extend(newy)\n",
    "    classes=count+1\n",
    "    print('x shape, y shape',np.asarray(x).shape,np.asarray(y).shape)    \n",
    "    print('Converting to images...')\n",
    "    '''Now draw the labels and data out'''\n",
    "    num=len(newx)\n",
    "    newimages=[makeImages2c(newx, newy, seq, num, j) for j in range(0, num-seq, jumps)]\n",
    "    images.extend(newimages)\n",
    "    print(f\"{count} images.shape\",np.asarray(newimages).shape)\n",
    "    iclass.append(np.asarray(newimages).shape[0])\n",
    "\n",
    "images=np.asarray(images).tolist()\n",
    "print(\"FInAL images.shape\",np.asarray(images).shape)        \n",
    "print(f'shape of x {np.asarray(x).shape}')\n",
    "print(f'shape of y {np.asarray(y).shape}')\n",
    "num=len(x)\n",
    "print(f'there are {classes} classes')\n",
    "print(f\"iclass={iclass}\")"
   ]
  },
  {
   "cell_type": "code",
   "execution_count": 8,
   "metadata": {},
   "outputs": [
    {
     "data": {
      "image/png": "[encoded data removed]",
      "text/plain": [
       "<Figure size 640x480 with 2 Axes>"
      ]
     },
     "metadata": {},
     "output_type": "display_data"
    }
   ],
   "source": [
    "t=range(len(x))\n",
    "plt.subplot(2,1,1)\n",
    "plt.plot(t,x)\n",
    "plt.vlines(seq*iclass[0],0,max(x),\"red\")\n",
    "\n",
    "plt.subplot(2,1,2)\n",
    "plt.plot(t,y)\n",
    "plt.vlines(seq*iclass[0],0,1,\"red\")\n",
    "\n",
    "plt.show()"
   ]
  },
  {
   "cell_type": "code",
   "execution_count": 9,
   "metadata": {},
   "outputs": [
    {
     "name": "stdout",
     "output_type": "stream",
     "text": [
      "1.0\n",
      "plot length = 10000, from 10240\n",
      "plot length = 10000, from 419328\n"
     ]
    },
    {
     "data": {
      "image/png": "[encoded data removed]",
      "text/plain": [
       "<Figure size 640x480 with 4 Axes>"
      ]
     },
     "metadata": {},
     "output_type": "display_data"
    }
   ],
   "source": [
    "print(max(y))\n",
    "rec=20\n",
    "length=10000\n",
    "\n",
    "start=rec*seq\n",
    "end= start+length\n",
    "print (f'plot length = {length}, from {start}')\n",
    "t=range(length)\n",
    "plt.subplot(2,2,1)\n",
    "plt.plot(t,x[start:end])\n",
    "\n",
    "plt.subplot(2,2,2)\n",
    "plt.plot(t,y[start:end])\n",
    "\n",
    "start=rec*seq+(iclass[0]*seq)\n",
    "end= start+length\n",
    "print (f'plot length = {length}, from {start}')\n",
    "\n",
    "plt.subplot(2,2,3)\n",
    "plt.plot(t,x[start:end])\n",
    "\n",
    "plt.subplot(2,2,4)\n",
    "plt.plot(t,y[start:end])\n",
    "\n",
    "plt.show()"
   ]
  },
  {
   "cell_type": "code",
   "execution_count": 10,
   "metadata": {},
   "outputs": [
    {
     "name": "stdout",
     "output_type": "stream",
     "text": [
      "(3188, 512)\n"
     ]
    }
   ],
   "source": [
    "X,Y=[],[]\n",
    "\n",
    "#Make the funky shape used in the embedding examples\n",
    "for i, image in enumerate(images):\n",
    "    a=image[0][:]\n",
    "    b=image[1][:]\n",
    "    ab=a\n",
    "    #print(np.asarray(ab).shape)\n",
    "    #ab=a #temp just current\n",
    "    X.append(ab)\n",
    "print(np.asarray(X).shape)  \n",
    "#print(y)"
   ]
  },
  {
   "cell_type": "code",
   "execution_count": 11,
   "metadata": {},
   "outputs": [
    {
     "name": "stdout",
     "output_type": "stream",
     "text": [
      "Computing t-SNE embedding\n",
      "[t-SNE] Computing 91 nearest neighbors...\n",
      "[t-SNE] Indexed 3188 samples in 0.001s...\n",
      "[t-SNE] Computed neighbors for 3188 samples in 0.185s...\n",
      "[t-SNE] Computed conditional probabilities for sample 1000 / 3188\n",
      "[t-SNE] Computed conditional probabilities for sample 2000 / 3188\n",
      "[t-SNE] Computed conditional probabilities for sample 3000 / 3188\n",
      "[t-SNE] Computed conditional probabilities for sample 3188 / 3188\n",
      "[t-SNE] Mean sigma: 1.270225\n",
      "[t-SNE] KL divergence after 250 iterations with early exaggeration: 79.732529\n",
      "[t-SNE] KL divergence after 1000 iterations: 1.062273\n",
      "(3188, 2)\n"
     ]
    }
   ],
   "source": [
    "# t-SNE embedding of the digits dataset\n",
    "print(\"Computing t-SNE embedding\")\n",
    "tsne = manifold.TSNE(n_components=2, init='pca', random_state=0,verbose=1, \n",
    "                     perplexity=30, n_iter=1000, learning_rate=1000,n_iter_without_progress=1000)\n",
    "t0 = time()\n",
    "X_tsne = tsne.fit_transform(X)\n",
    "print(X_tsne.shape)\n",
    "#print(X_tsne[:,0])"
   ]
  },
  {
   "cell_type": "code",
   "execution_count": 12,
   "metadata": {},
   "outputs": [
    {
     "name": "stdout",
     "output_type": "stream",
     "text": [
      "3188\n"
     ]
    }
   ],
   "source": [
    "# Import Python cycling library\n",
    "from itertools import cycle\n",
    "ncol=len(iclass)\n",
    "colours=[]\n",
    "sizes=[]\n",
    "bs=50*ncol+50\n",
    "colour_codes = map('C{}'.format, cycle(range(ncol)))\n",
    "for i in range(ncol):\n",
    "    color=next(colour_codes)\n",
    "    color=[color]*iclass[i]\n",
    "    size=[bs-i*50]*iclass[i]\n",
    "    sizes.extend(size)\n",
    "    colours.extend(color)\n",
    "     \n",
    "print(len(colours))\n"
   ]
  },
  {
   "cell_type": "code",
   "execution_count": 13,
   "metadata": {},
   "outputs": [
    {
     "name": "stdout",
     "output_type": "stream",
     "text": [
      "[[127.5], [112.5], [97.5], [82.5], [67.5], [52.5]]\n",
      "6\n"
     ]
    }
   ],
   "source": [
    "# Import Python cycling library Do this again, a little differently!\n",
    "from itertools import cycle\n",
    "ncol=len(iclass)\n",
    "colours=[]\n",
    "sizes=[]\n",
    "bs=20*len(iclass)+7.5\n",
    "colour_codes = map('C{}'.format, cycle(range(len(iclass))))\n",
    "for i in range(len(iclass)):\n",
    "    colour=next(colour_codes)\n",
    "    size=[bs-i*15.0]\n",
    "    sizes.append(size)\n",
    "    colours.append(colour)\n",
    "print(sizes)     \n",
    "print(len(colours))"
   ]
  },
  {
   "cell_type": "code",
   "execution_count": 14,
   "metadata": {
    "scrolled": true
   },
   "outputs": [
    {
     "name": "stdout",
     "output_type": "stream",
     "text": [
      "Using matplotlib backend: MacOSX\n",
      "class 0\n",
      "class 1\n",
      "class 2\n",
      "class 3\n",
      "class 4\n",
      "class 5\n"
     ]
    },
    {
     "data": {
      "text/plain": [
       "<matplotlib.legend.Legend at 0x7f88a5869f90>"
      ]
     },
     "execution_count": 14,
     "metadata": {},
     "output_type": "execute_result"
    }
   ],
   "source": [
    "from matplotlib.pyplot import figure\n",
    "\n",
    "%matplotlib\n",
    "#figure(figsize=(15, 10), dpi=72)\n",
    "#plt.scatter(X_tsne[:,0],X_tsne[:,1],c=colours,s=sizes)\n",
    "\n",
    "fig, ax = plt.subplots()\n",
    "for n in range(len(iclass)):\n",
    "    print('class',n)  \n",
    "    if n==0:\n",
    "        start=0\n",
    "    end=sum(iclass[:n+1])\n",
    "    #or s=sizes[n]\n",
    "    ax.scatter(X_tsne[start:end,0], X_tsne[start:end,1],c=colours[n],s=3,label=files[0],alpha=0.5)\n",
    "    start=end\n",
    "ax.legend((files),framealpha=0.75)\n"
   ]
  },
  {
   "cell_type": "code",
   "execution_count": 15,
   "metadata": {},
   "outputs": [
    {
     "ename": "ModuleNotFoundError",
     "evalue": "No module named 'umap'",
     "output_type": "error",
     "traceback": [
      "\u001b[0;31m---------------------------------------------------------------------------\u001b[0m",
      "\u001b[0;31mModuleNotFoundError\u001b[0m                       Traceback (most recent call last)",
      "\u001b[0;32m<ipython-input-15-fc7ea6d471b7>\u001b[0m in \u001b[0;36m<module>\u001b[0;34m\u001b[0m\n\u001b[1;32m      3\u001b[0m \u001b[0;32mfrom\u001b[0m \u001b[0mmpl_toolkits\u001b[0m\u001b[0;34m.\u001b[0m\u001b[0mmplot3d\u001b[0m \u001b[0;32mimport\u001b[0m \u001b[0mAxes3D\u001b[0m\u001b[0;34m\u001b[0m\u001b[0;34m\u001b[0m\u001b[0m\n\u001b[1;32m      4\u001b[0m \u001b[0;31m#import seaborn as sns\u001b[0m\u001b[0;34m\u001b[0m\u001b[0;34m\u001b[0m\u001b[0;34m\u001b[0m\u001b[0m\n\u001b[0;32m----> 5\u001b[0;31m \u001b[0;32mimport\u001b[0m \u001b[0mumap\u001b[0m\u001b[0;34m\u001b[0m\u001b[0;34m\u001b[0m\u001b[0m\n\u001b[0m\u001b[1;32m      6\u001b[0m \u001b[0mget_ipython\u001b[0m\u001b[0;34m(\u001b[0m\u001b[0;34m)\u001b[0m\u001b[0;34m.\u001b[0m\u001b[0mrun_line_magic\u001b[0m\u001b[0;34m(\u001b[0m\u001b[0;34m'matplotlib'\u001b[0m\u001b[0;34m,\u001b[0m \u001b[0;34m'inline'\u001b[0m\u001b[0;34m)\u001b[0m\u001b[0;34m\u001b[0m\u001b[0;34m\u001b[0m\u001b[0m\n",
      "\u001b[0;31mModuleNotFoundError\u001b[0m: No module named 'umap'"
     ]
    }
   ],
   "source": [
    "import numpy as np\n",
    "import matplotlib.pyplot as plt\n",
    "from mpl_toolkits.mplot3d import Axes3D\n",
    "#import seaborn as sns\n",
    "import umap\n",
    "%matplotlib inline"
   ]
  },
  {
   "cell_type": "code",
   "execution_count": null,
   "metadata": {},
   "outputs": [],
   "source": [
    "fit = umap.UMAP()\n",
    "%time u = fit.fit_transform(X)"
   ]
  },
  {
   "cell_type": "code",
   "execution_count": null,
   "metadata": {},
   "outputs": [],
   "source": [
    "# Import Python cycling library Do this again, a little differently!\n",
    "from itertools import cycle\n",
    "ncol=len(iclass)\n",
    "colours=[]\n",
    "sizes=[]\n",
    "bs=20*len(iclass)+7.5\n",
    "colour_codes = map('C{}'.format, cycle(range(len(iclass))))\n",
    "for i in range(len(iclass)):\n",
    "    colour=next(colour_codes)\n",
    "    size=[bs-i*15.0]\n",
    "    sizes.append(size)\n",
    "    colours.append(colour)\n",
    "     \n",
    "print(len(colours))"
   ]
  },
  {
   "cell_type": "code",
   "execution_count": null,
   "metadata": {},
   "outputs": [],
   "source": [
    "print(colours)"
   ]
  },
  {
   "cell_type": "code",
   "execution_count": null,
   "metadata": {},
   "outputs": [],
   "source": [
    "#sns.set(style='white', context='poster', rc={'figure.figsize':(14,10)})"
   ]
  },
  {
   "cell_type": "code",
   "execution_count": null,
   "metadata": {},
   "outputs": [],
   "source": [
    "%matplotlib\n",
    "figure(figsize=(15, 10), dpi=72)\n",
    "print(f'X shape{np.asarray(X).shape}')\n",
    "print(\"U shape is\", u.shape)\n",
    "print(\"number in each class\",iclass)\n",
    "sizes=[20.0,20.0,10.0,10.0]\n",
    "colours=['b','r','g','k']\n",
    "fig, ax = plt.subplots()\n",
    "for n in range(len(iclass)):\n",
    "    print('class',n)  \n",
    "    if n==0:\n",
    "        start=0\n",
    "    end=sum(iclass[:n+1])\n",
    "    ax.scatter(u[start:end,0], u[start:end,1],c=colours[n],s=sizes[n],label=files[0])\n",
    "    start=end\n",
    "\n",
    "ax.legend((files),framealpha=0.75)\n",
    "#plt.ylim([2,10])\n",
    "#ax.set_xbound(lower=2, upper=10)\n",
    "plt.title(f'UMAP embedding {len(iclass)} classes');\n",
    "annotate=False\n",
    "if annotate:\n",
    "    n=range(len(u[:,0]))\n",
    "    points=[]\n",
    "    xdist=0.5\n",
    "    ydist=1\n",
    "    for i, txt in enumerate(n):\n",
    "        write=True\n",
    "        newpoint=np.asarray([u[i,0], u[i,1]])\n",
    "        offset=np.asarray([u[i,0]+xdist, u[i,1]+ydist])\n",
    "        if i==0:\n",
    "            t=ax.annotate(txt, newpoint, fontsize='xx-small', fontweight='extra bold',color='blue',\n",
    "                         arrowprops=dict(facecolor='black', shrink=0.05), \n",
    "                             xytext=offset)\n",
    "            t.set_bbox(dict(facecolor='white', alpha=0.75, edgecolor='black'))\n",
    "            points.append(offset)\n",
    "        else:\n",
    "            for point in points:\n",
    "                if np.linalg.norm(point - offset)<1:\n",
    "                    write=False\n",
    "            if write==True:\n",
    "                color=\"blue\"\n",
    "                if i>iclass[0]:\n",
    "                    color=\"red\"\n",
    "                t=ax.annotate(txt, newpoint,fontsize='xx-small', fontweight='extra bold',\n",
    "                             arrowprops=dict(facecolor='black', shrink=0.05), \n",
    "                             xytext=offset,annotation_clip=None,color=color )\n",
    "                t.set_bbox(dict(facecolor='white', alpha=0.75, edgecolor='black'))\n",
    "                points.append(offset)\n"
   ]
  },
  {
   "cell_type": "code",
   "execution_count": null,
   "metadata": {},
   "outputs": [],
   "source": [
    "from matplotlib import colors\n",
    "figure(figsize=(15, 10), dpi=72)\n",
    "print(f'X shape{np.asarray(X).shape}')\n",
    "print(\"U shape is\", u.shape)\n",
    "print(\"number in each class\",iclass)\n",
    "sizes=[100,80,60,40]\n",
    "colours=['b','r','g','k']\n",
    "fig, ax = plt.subplots()\n",
    "for n in range(len(iclass)):\n",
    "    plt.subplot(4,1,n+1)\n",
    "    ax.scatter(u[:iclass[n],0], u[:iclass[n],1],c=colours[n],s=sizes[n],label=files[0])\n",
    "\n",
    "ax.legend((files),framealpha=0.25)\n",
    "#plt.ylim([2,10])\n",
    "#ax.set_xbound(lower=2, upper=10)\n",
    "plt.title(f'UMAP embedding {len(iclass)} classes');"
   ]
  },
  {
   "cell_type": "code",
   "execution_count": null,
   "metadata": {},
   "outputs": [],
   "source": [
    "#Get the bottom left cluster that seemed off?\n",
    "us=u[(u[:,0]>5) & (u[:,1]<6 )] \n",
    "print(u.shape)\n",
    "print(us.shape)\n",
    "\n",
    "fig, ax = plt.subplots()\n",
    "ax.scatter(us[:,0], us[:,1])\n",
    "plt.title(f'UMAP embedding bottom right cluster');\n",
    "n=range(len(us[:,0]))\n",
    "for i, txt in enumerate(n):\n",
    "    if i%5==0:\n",
    "        ax.annotate(txt, (us[i,0], us[i,1]))\n"
   ]
  },
  {
   "cell_type": "code",
   "execution_count": null,
   "metadata": {},
   "outputs": [],
   "source": [
    "#But we need to know which original data segments this actually is!!\n",
    "cluster=np.asarray(np.where((u[:,0]>5) & (u[:,1]<6)))\n",
    "print(type(cluster))\n",
    "print(cluster.shape)\n",
    "cluster=cluster[0,:]\n",
    "print(type(cluster))\n",
    "print(cluster.shape)\n",
    "#Now verifying we've the right one!\n",
    "usx=[]\n",
    "usy=[]\n",
    "for el in cluster:\n",
    "    usx.append(u[el,0])\n",
    "    usy.append(u[el,1])\n",
    "fig, ax = plt.subplots()\n",
    "ax.scatter(usx, usy)\n",
    "plt.title(f'UMAP embedding bottom left cluster');    \n"
   ]
  },
  {
   "cell_type": "code",
   "execution_count": null,
   "metadata": {},
   "outputs": [],
   "source": [
    "print(cluster)"
   ]
  },
  {
   "cell_type": "code",
   "execution_count": null,
   "metadata": {},
   "outputs": [],
   "source": [
    "#Now look at the offending records\n",
    "records=10\n",
    "for i in range(1,records+1):\n",
    "    plt.subplot(2,5,i)\n",
    "    n=int(cluster[i])*seq\n",
    "    print(n)\n",
    "    plt.plot(x[n:n+seq])\n",
    "    plt.plot([val*5 for val in y[n:n+seq]])\n",
    "    plt.title(f\" record {n}\")\n"
   ]
  },
  {
   "cell_type": "code",
   "execution_count": null,
   "metadata": {},
   "outputs": [],
   "source": [
    "for i in range (len(classes)):\n",
    "    print(files[i],classes[i])\n",
    "    if i ==0:\n",
    "        j=0\n",
    "        ax = plt.subplot(111)\n",
    "        ax.scatter(u[j:j+classes[i],0],u[j:j+classes[i],1],c=colors[i],s=20)\n",
    "    else:\n",
    "        print(j,j+classes[i])\n",
    "        j=sum(classes[:i-1])\n",
    "        e=sum(classes[:i])\n",
    "        ax = plt.subplot(111)\n",
    "        ax.scatter(u[j:e,0],u[j:e,1],c=colors[i],s=20)                    \n",
    "    #plots.append(p)\n",
    "\n",
    "box = ax.get_position()\n",
    "ax.set_position([box.x0, box.y0, box.width * 0.8, box.height])\n",
    "ax.legend(bbox_to_anchor=(50, 1.5))\n",
    "plt.legend(files,scatterpoints=1,bbox_to_anchor=(1.1, 1.05))\n"
   ]
  },
  {
   "cell_type": "code",
   "execution_count": null,
   "metadata": {},
   "outputs": [],
   "source": [
    "plt.scatter(u[:,0], u[:,1])\n",
    "plt.title('UMAP embedding of random colours');"
   ]
  },
  {
   "cell_type": "code",
   "execution_count": null,
   "metadata": {},
   "outputs": [],
   "source": []
  },
  {
   "cell_type": "code",
   "execution_count": null,
   "metadata": {},
   "outputs": [],
   "source": []
  }
 ],
 "metadata": {
  "kernelspec": {
   "display_name": "Python 3",
   "language": "python",
   "name": "python3"
  },
  "language_info": {
   "codemirror_mode": {
    "name": "ipython",
    "version": 3
   },
   "file_extension": ".py",
   "mimetype": "text/x-python",
   "name": "python",
   "nbconvert_exporter": "python",
   "pygments_lexer": "ipython3",
   "version": "3.7.4"
  }
 },
 "nbformat": 4,
 "nbformat_minor": 4
}
